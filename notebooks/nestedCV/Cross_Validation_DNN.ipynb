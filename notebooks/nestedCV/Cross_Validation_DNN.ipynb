{
 "cells": [
  {
   "cell_type": "code",
   "execution_count": 46,
   "id": "b2d45927-e1f3-4229-8f98-0bbc64b6b3d1",
   "metadata": {},
   "outputs": [],
   "source": [
    "import xarray as xr\n",
    "import numpy as np\n",
    "import matplotlib.pyplot as plt\n",
    "import pandas as pd\n",
    "import keras\n",
    "import itertools as it\n",
    "import pickle\n",
    "\n",
    "from pathlib import Path\n",
    "from tqdm import tqdm\n",
    "from sklearn.model_selection import KFold\n",
    "\n",
    "from functools import partial\n",
    "\n",
    "#  model\n",
    "from src.models.my_models.kerasModels.dnn import DNN, DNN_th\n",
    "\n",
    "#  data transformations\n",
    "from src.data.data_utils import augment_data, fill_random_2d, transform_x\n",
    "\n",
    "# scores and metrics\n",
    "from sklearn.metrics import r2_score, make_scorer\n",
    "from src.metrics.metrics import (exponential_mae, exponential_mape, exponential_mse, exponential_r2, \n",
    "exponential_mae_per_class, exponential_mape_per_class, exponential_mse_per_class, exponential_r2_per_class, r2_per_class, r2)\n",
    "\n",
    "%matplotlib qt\n",
    "tqdm = partial(tqdm, position=0, leave=True)\n",
    "\n"
   ]
  },
  {
   "cell_type": "code",
   "execution_count": 47,
   "id": "4c2b458e-8cc5-41cc-b1c5-239793d4bad4",
   "metadata": {},
   "outputs": [],
   "source": [
    "\n",
    "# Paths\n",
    "datasets_dir = Path('../../data/datasets/dataset_hplc_multi/')\n",
    "reports_dir_test = Path('../../reports/cross_val')\n",
    "reports_dir_train = Path('../../reports/cross_val_train')\n",
    "dir_model = Path('../../model')\n",
    "reports_dir_test.mkdir(parents=True, exist_ok=True)\n",
    "reports_dir_train.mkdir(parents=True, exist_ok=True)\n",
    "dir_model.mkdir(parents=True, exist_ok=True)\n",
    "\n",
    "pigments_threshold = [0.00248, 0.05878, 0.003  , 0.00518, 0.003  , 0.01302, 0.0036 , 0.00968, 0.001  , 0.0018 , 0.00844, 0.00242, 0.001  ]\n",
    "log_pigments_threshold = list(np.log(pigments_threshold))\n",
    "\n",
    "metrics = {\"mae\": exponential_mae, \"mse\": exponential_mse, \"r2\": exponential_r2, \"mape\": exponential_mape,\n",
    "           \"mae_per_class\": exponential_mae_per_class, \"mse_per_class\": exponential_mse_per_class, \n",
    "           \"r2_per_class\": exponential_r2_per_class, \"mape_per_class\": exponential_mape_per_class,\n",
    "           \"r2_log\": r2_score, \"r2_log_per_class\": r2_per_class}\n",
    "\n",
    "\n",
    "pigments = ['chlide_a[mg*m^3]', 'chla[mg*m^3]', 'chlb[mg*m^3]', 'chlc1+c2[mg*m^3]',\n",
    "       'fucox[mg*m^3]', \"19'hxfcx[mg*m^3]\", \"19'btfcx[mg*m^3]\",\n",
    "       'diadino[mg*m^3]', 'allox[mg*m^3]', 'diatox[mg*m^3]', 'zeaxan[mg*m^3]',\n",
    "       'beta_car[mg*m^3]', 'peridinin[mg*m^3]']\n",
    "\n",
    "n = 50\n",
    "\n",
    "def conf_dnn_random(n, seed=1):\n",
    "    confs = []\n",
    "    np.random.seed(seed)\n",
    "    for i in range(n):\n",
    "        layers_num = np.random.randint(low=2, high=5)\n",
    "        hl_dim = np.random.choice([13, 16, 32, 64], size=(layers_num - 1))\n",
    "        hl_dim = np.hstack([hl_dim, [13]])\n",
    "        conf = {'layers_num': layers_num, \n",
    "                'hl_dim': hl_dim,\n",
    "                'dropout': np.random.choice([0.0, 0.1, 0.2, 0.3, 0.4, 0.5]), \n",
    "                'lr': np.random.choice([0.01, 0.001]),\n",
    "                'patience': np.random.choice([5, 10, 30, 50, 100, 1000]),\n",
    "                'loss': np.random.choice(['mae', 'mse', 'mapee']),\n",
    "                'epochs':np.random.choice([100, 200, 300, 500, 800, 1000, 1500, 3000]),\n",
    "                # 'epochs':3000,\n",
    "                'batch': np.random.choice([8, 16, 32])}               \n",
    "        confs.append(conf)\n",
    "    return confs\n",
    "\n",
    "def conf_dnn_random_th(n, seed=1):\n",
    "    confs = []\n",
    "    np.random.seed(seed)\n",
    "    for i in range(n):\n",
    "        layers_num = np.random.randint(low=2, high=5)\n",
    "        hl_dim = np.random.choice([13, 16, 32, 64, 128], size=(layers_num - 1))\n",
    "        hl_dim = np.hstack([hl_dim, [13]])\n",
    "        conf = {'layers_num': layers_num, \n",
    "                'hl_dim': hl_dim,\n",
    "                'dropout': np.random.choice([0.0, 0.1, 0.2, 0.3, 0.4, 0.5]), \n",
    "                'lr': np.random.choice([0.01, 0.001]),\n",
    "                'patience': np.random.choice([5, 10, 30, 50, 100, 1000]),\n",
    "                'loss': np.random.choice(['mae', 'mse', 'mapee']),               \n",
    "                'epochs':np.random.choice([100, 200, 300, 500, 800, 1000, 1500, 3000]),\n",
    "                # 'epochs':3000,\n",
    "                'batch': np.random.choice([8, 16, 32]),\n",
    "                'threshold':log_pigments_threshold}               \n",
    "        confs.append(conf)\n",
    "    return confs\n",
    "\n",
    "model_confs = conf_dnn_random(n)\n",
    "model_confs_th = conf_dnn_random_th(n)"
   ]
  },
  {
   "cell_type": "markdown",
   "id": "4338ff03-16ba-494f-a9d1-002ae100c1d9",
   "metadata": {},
   "source": [
    "## Nested Cross validation. \n"
   ]
  },
  {
   "cell_type": "code",
   "execution_count": 48,
   "id": "42e525fc-9336-44cf-91a0-366024fa59d1",
   "metadata": {},
   "outputs": [],
   "source": [
    "# Assuming log predictions\n",
    "def nested_cv(x, y, model_class, models_confs_pool, train_conf, score, score_aux=None, outer_splits=5, inner_splits=3, seed=1):\n",
    "    kfold_outer = KFold(n_splits=outer_splits, shuffle=True, random_state=seed)\n",
    "    train_result = {}\n",
    "    test_result = {}\n",
    "    i = 0\n",
    "    for train_index, test_index in tqdm(kfold_outer.split(x, y), total=outer_splits):\n",
    "        X_train, X_test = x.iloc[train_index].copy(), x.iloc[test_index].copy()\n",
    "        y_train, y_test = y.iloc[train_index].copy(), y.iloc[test_index].copy()\n",
    "        X_train, y_train = augment_data(X_train, y_train, replicate=5)\n",
    "        X_train.loc[:, ['lat', 'lon']] = fill_random_2d(X_train.loc[:, ['lat', 'lon']].values, 0.1)\n",
    "        #X_train.loc[:, :] = fill_random_2d(X_train.loc[:, :].values, 0.1)\n",
    "\n",
    "        kfold_inner = KFold(n_splits=inner_splits,  shuffle=True, random_state=seed)\n",
    "        inner_metrics = []\n",
    "        for train_index_inner, test_index_inner in tqdm(kfold_inner.split(X_train, y_train), total=inner_splits):\n",
    "            X_train_inner, X_test_inner = X_train.iloc[train_index_inner].copy(), X_train.iloc[test_index_inner].copy()\n",
    "            y_train_inner, y_test_inner = y_train.iloc[train_index_inner].copy(), y_train.iloc[test_index_inner].copy()\n",
    "        \n",
    "            X_train_inner, X_test_inner = transform_x(X_train_inner, X_test_inner, 'pca_scaled')\n",
    "\n",
    "            models = [model_class(**conf) for conf in models_confs_pool]\n",
    "            [model_.fit(x=X_train_inner, y=y_train_inner, **train_conf) for model_ in models]\n",
    "        \n",
    "            # Predict test and compute metrics\n",
    "            py = [mod.predict(X_test_inner) for mod in models]\n",
    "            inner_metrics.append([score(y_test_inner, py_) for py_ in py])\n",
    "        best_inner_model_index = np.array(inner_metrics).mean(axis=0).argmax()\n",
    "        best_conf = models_confs_pool[best_inner_model_index]\n",
    "        best_model = model_class(**best_conf)\n",
    "\n",
    "        X_train, X_test = transform_x(X_train, X_test, 'pca_scaled')\n",
    "        best_model.fit(x=X_train, y=y_train, **train_conf)\n",
    "\n",
    "\n",
    "        # Evaluate the model on the outer training set\n",
    "        aux_res_train = {}\n",
    "        py = best_model.predict(X_train)\n",
    "        if score_aux is not None:\n",
    "            aux_res_train = {key: s(y_train, py) for key, s in score_aux.items()}\n",
    "        train_result[i] = {**best_conf, \"score\": score(y_train, py), **aux_res_train}\n",
    "\n",
    "        # Evaluate the model on the outer test set\n",
    "        aux_res_test = {}\n",
    "        py = best_model.predict(X_test)\n",
    "        if score_aux is not None:\n",
    "            aux_res_test.update({key: s(y_test, py) for key, s in score_aux.items()})\n",
    "        test_result[i] = { **best_conf, \"score\": score(y_test, py), **aux_res_test}\n",
    "        i = i+1\n",
    "    return train_result, test_result\n",
    "        \n",
    "\n"
   ]
  },
  {
   "cell_type": "markdown",
   "id": "0b846819-76a2-4276-9157-5e6b54b7e6db",
   "metadata": {},
   "source": [
    "#### Prepare the nested cross validation attributes"
   ]
  },
  {
   "cell_type": "code",
   "execution_count": 49,
   "id": "46195fa6-f26a-4fde-a184-e550668fba7d",
   "metadata": {},
   "outputs": [],
   "source": [
    "x = pd.read_csv(datasets_dir/'log_rrs_lat_lon_month_season_depth_loc.csv')\n",
    "y = pd.read_csv(datasets_dir/'log_pigments.csv')\n",
    "\n",
    "# only med and black sea\n",
    "y = y[x['med and black sea'].astype(bool)]\n",
    "x = x[x['med and black sea'].astype(bool)]\n",
    "x = x.drop(columns=['med', 'black sea', 'med and black sea'])\n"
   ]
  },
  {
   "cell_type": "code",
   "execution_count": 51,
   "id": "791b5040-1fae-45ba-a410-5264f02cec3f",
   "metadata": {},
   "outputs": [],
   "source": [
    "x = x.drop(columns=['January', 'February', 'March', 'April', 'May', 'June', 'July', 'August', 'September', 'October', 'November', 'December'])\n",
    "# x = x.drop(columns=['lat', 'lon'])\n",
    "x = x.drop(columns=[ 'depth'])\n",
    "x = x.drop(columns=['summer', 'autumn', 'spring', 'winter'])"
   ]
  },
  {
   "cell_type": "code",
   "execution_count": 52,
   "id": "38757568-6e65-4bdf-950d-f339639b8647",
   "metadata": {},
   "outputs": [],
   "source": [
    "# m = DNN(**model_confs[1])\n",
    "# m.model.predict(x)\n",
    "# m.model.summary()\n",
    "train_conf = {}"
   ]
  },
  {
   "cell_type": "code",
   "execution_count": 7,
   "id": "ddc995b8-f440-4ac1-bc2b-806be1df5fca",
   "metadata": {},
   "outputs": [
    {
     "name": "stderr",
     "output_type": "stream",
     "text": [
      "100%|████████████████████████████████████████████████████████████████████████████████████████████████████████████████████████████████████████████| 3/3 [1:28:01<00:00, 1760.57s/it]\n",
      "100%|████████████████████████████████████████████████████████████████████████████████████████████████████████████████████████████████████████████| 3/3 [1:25:31<00:00, 1710.61s/it]\n",
      "100%|████████████████████████████████████████████████████████████████████████████████████████████████████████████████████████████████████████████| 3/3 [1:25:04<00:00, 1701.40s/it]\n",
      "100%|████████████████████████████████████████████████████████████████████████████████████████████████████████████████████████████████████████████| 3/3 [1:47:20<00:00, 2146.69s/it]\n",
      "100%|████████████████████████████████████████████████████████████████████████████████████████████████████████████████████████████████████████████| 3/3 [1:56:49<00:00, 2336.62s/it]\n",
      "100%|████████████████████████████████████████████████████████████████████████████████████████████████████████████████████████████████████████████| 5/5 [8:09:07<00:00, 5869.50s/it]\n"
     ]
    }
   ],
   "source": [
    "ncv_train, ncv_test  = nested_cv(x, y, DNN, model_confs, {}, r2, score_aux=metrics)"
   ]
  },
  {
   "cell_type": "code",
   "execution_count": null,
   "id": "d9fca790-11ab-4fe8-8758-7f5abe66d677",
   "metadata": {},
   "outputs": [],
   "source": []
  },
  {
   "cell_type": "code",
   "execution_count": 53,
   "id": "5e0f833b-17f6-4f90-a60e-29a94bd77255",
   "metadata": {},
   "outputs": [
    {
     "name": "stderr",
     "output_type": "stream",
     "text": [
      "100%|████████████████████████████████████████████████████████████████████████████████████████████████████████████████████████████████████████████| 3/3 [1:04:58<00:00, 1299.41s/it]\n",
      "100%|████████████████████████████████████████████████████████████████████████████████████████████████████████████████████████████████████████████| 3/3 [1:05:45<00:00, 1315.21s/it]\n",
      "100%|████████████████████████████████████████████████████████████████████████████████████████████████████████████████████████████████████████████| 3/3 [1:05:23<00:00, 1307.81s/it]\n",
      "100%|████████████████████████████████████████████████████████████████████████████████████████████████████████████████████████████████████████████| 3/3 [1:27:36<00:00, 1752.23s/it]\n",
      "100%|████████████████████████████████████████████████████████████████████████████████████████████████████████████████████████████████████████████| 3/3 [1:55:35<00:00, 2311.81s/it]\n",
      "100%|████████████████████████████████████████████████████████████████████████████████████████████████████████████████████████████████████████████| 5/5 [6:39:53<00:00, 4798.76s/it]\n"
     ]
    }
   ],
   "source": [
    "ncv_train_th, ncv_test_th = nested_cv(x, y, DNN_th, model_confs_th, train_conf, r2, score_aux=metrics)"
   ]
  },
  {
   "cell_type": "code",
   "execution_count": 54,
   "id": "d89b8f6a-9106-4ff3-a5a5-1f67ba32470e",
   "metadata": {},
   "outputs": [],
   "source": [
    "attribs_train = list(ncv_train[0].keys())\n",
    "met_names_train = list(metrics.keys()) \n",
    "\n",
    "attribs_test = list(ncv_test[0].keys())\n",
    "met_names_test = list(metrics.keys()) \n"
   ]
  },
  {
   "cell_type": "code",
   "execution_count": 55,
   "id": "ae05cc2b-2a8f-46b8-b237-5b1798bfa78b",
   "metadata": {},
   "outputs": [],
   "source": [
    "mets_train = {attrib : [fold[attrib] for fold_num, fold in ncv_train.items()] for attrib in attribs_train}\n",
    "mets_train = {key: np.mean(value, axis=0)  if key in met_names_train else value for key, value in mets_train.items()}\n",
    "\n",
    "mets_test = {attrib : [fold[attrib] for fold_num, fold in ncv_test.items()] for attrib in attribs_test}\n",
    "mets_test = {key: np.mean(value, axis=0)  if key in met_names_test else value for key, value in mets_test.items()}"
   ]
  },
  {
   "cell_type": "code",
   "execution_count": 56,
   "id": "c7d30de5-a127-4481-ad0e-1f3b4802da1b",
   "metadata": {},
   "outputs": [],
   "source": [
    "mets_train_th = {attrib : [fold[attrib] for fold_num, fold in ncv_train_th.items()] for attrib in attribs_train}\n",
    "mets_train_th = {key: np.mean(value, axis=0)  if key in met_names_train else value for key, value in mets_train_th.items()}\n",
    "\n",
    "mets_test_th = {attrib : [fold[attrib] for fold_num, fold in ncv_test_th.items()] for attrib in attribs_test}\n",
    "mets_test_th = {key: np.mean(value, axis=0)  if key in met_names_test else value for key, value in mets_test_th.items()}"
   ]
  },
  {
   "cell_type": "markdown",
   "id": "f1e97829-185b-4b6e-9f18-30ab8ed1bf5f",
   "metadata": {},
   "source": [
    "### Legacy training"
   ]
  },
  {
   "cell_type": "code",
   "execution_count": null,
   "id": "ec415f8c-2293-47f8-ab4e-ffbd88adcf4c",
   "metadata": {},
   "outputs": [],
   "source": []
  },
  {
   "cell_type": "code",
   "execution_count": null,
   "id": "ec35f935-1dd5-4ee3-b805-8bc12a9c75cc",
   "metadata": {},
   "outputs": [],
   "source": [
    "x_mini = x.drop(columns=[\"400\", \"620\", \"665\", \"681\", \"708\", \"778\", \"865\"])"
   ]
  },
  {
   "cell_type": "code",
   "execution_count": null,
   "id": "4916b1d8-39aa-468a-a435-1441535b4b93",
   "metadata": {},
   "outputs": [],
   "source": [
    "ncv_train_mini, ncv_test_mini       = nested_cv(x_mini, y, DNN, models_confs, train_conf, r2_score, score_aux=metrics)"
   ]
  },
  {
   "cell_type": "code",
   "execution_count": null,
   "id": "062dc29f-63d6-4ad5-96c0-316729a382c9",
   "metadata": {},
   "outputs": [],
   "source": [
    "ncv_train_th_mini, ncv_test_th_mini = nested_cv(x_mini, y, DNN_th, models_confs_th, train_conf, r2_score, score_aux=metrics)"
   ]
  },
  {
   "cell_type": "code",
   "execution_count": null,
   "id": "a328e1a6-fae4-4373-b545-8d88ca53fcc6",
   "metadata": {},
   "outputs": [],
   "source": [
    "mets_train_mini = {attrib : [fold[attrib] for fold_num, fold in ncv_train_mini.items()] for attrib in attribs_train}\n",
    "mets_train_mini = {key: np.mean(value, axis=0)  if key in met_names_train else value for key, value in mets_train_mini.items()}"
   ]
  },
  {
   "cell_type": "code",
   "execution_count": null,
   "id": "40fd178b-d31d-4597-affc-afde3a3933fc",
   "metadata": {},
   "outputs": [],
   "source": [
    "mets_test_mini = {attrib : [fold[attrib] for fold_num, fold in ncv_test_mini.items()] for attrib in attribs_test}\n",
    "mets_test_mini = {key: np.mean(value, axis=0)  if key in met_names_test else value for key, value in mets_test_mini.items()}"
   ]
  },
  {
   "cell_type": "code",
   "execution_count": null,
   "id": "25245934-7d8f-40fa-b768-3bc284e9e547",
   "metadata": {},
   "outputs": [],
   "source": [
    "mets_train_th_mini = {attrib : [fold[attrib] for fold_num, fold in ncv_train_th_mini.items()] for attrib in attribs_train}\n",
    "mets_train_th_mini = {key: np.mean(value, axis=0)  if key in met_names_train else value for key, value in mets_train_th_mini.items()}"
   ]
  },
  {
   "cell_type": "code",
   "execution_count": null,
   "id": "d823cb7f-a3a1-41a9-b578-0118fd08aaf4",
   "metadata": {},
   "outputs": [],
   "source": [
    "mets_test_th_mini = {attrib : [fold[attrib] for fold_num, fold in ncv_test_th_mini.items()] for attrib in attribs_test}\n",
    "mets_test_th_mini = {key: np.mean(value, axis=0)  if key in met_names_test else value for key, value in mets_test_th_mini.items()}"
   ]
  },
  {
   "cell_type": "markdown",
   "id": "25220811-31a2-40b0-bc3b-feb0f3894f67",
   "metadata": {},
   "source": [
    "### Test Metrics"
   ]
  },
  {
   "cell_type": "code",
   "execution_count": 57,
   "id": "c9fd3614-7f21-4d18-940d-6f9e52e9e1c6",
   "metadata": {},
   "outputs": [
    {
     "data": {
      "text/html": [
       "<div>\n",
       "<style scoped>\n",
       "    .dataframe tbody tr th:only-of-type {\n",
       "        vertical-align: middle;\n",
       "    }\n",
       "\n",
       "    .dataframe tbody tr th {\n",
       "        vertical-align: top;\n",
       "    }\n",
       "\n",
       "    .dataframe thead th {\n",
       "        text-align: right;\n",
       "    }\n",
       "</style>\n",
       "<table border=\"1\" class=\"dataframe\">\n",
       "  <thead>\n",
       "    <tr style=\"text-align: right;\">\n",
       "      <th></th>\n",
       "      <th>R2</th>\n",
       "      <th>MAPE</th>\n",
       "      <th>MAE</th>\n",
       "      <th>MSE</th>\n",
       "    </tr>\n",
       "  </thead>\n",
       "  <tbody>\n",
       "    <tr>\n",
       "      <th>DNN</th>\n",
       "      <td>0.746472</td>\n",
       "      <td>0.545161</td>\n",
       "      <td>0.060534</td>\n",
       "      <td>0.132449</td>\n",
       "    </tr>\n",
       "    <tr>\n",
       "      <th>DNN th</th>\n",
       "      <td>0.748104</td>\n",
       "      <td>0.462292</td>\n",
       "      <td>0.069799</td>\n",
       "      <td>0.231377</td>\n",
       "    </tr>\n",
       "  </tbody>\n",
       "</table>\n",
       "</div>"
      ],
      "text/plain": [
       "              R2      MAPE       MAE       MSE\n",
       "DNN     0.746472  0.545161  0.060534  0.132449\n",
       "DNN th  0.748104  0.462292  0.069799  0.231377"
      ]
     },
     "execution_count": 57,
     "metadata": {},
     "output_type": "execute_result"
    }
   ],
   "source": [
    "pd.DataFrame({'R2':[mets_test['r2_log'], mets_test_th['r2_log']], \n",
    "              'MAPE':[mets_test['mape'], mets_test_th['mape']],\n",
    "              'MAE':[mets_test['mae'], mets_test_th['mae']],\n",
    "              'MSE':[mets_test['mse'], mets_test_th['mse']]\n",
    "             }, index=['DNN', 'DNN th'])"
   ]
  },
  {
   "cell_type": "code",
   "execution_count": 58,
   "id": "37b6b37f-eec7-44f1-bff2-07e2cb7bb1d6",
   "metadata": {},
   "outputs": [
    {
     "data": {
      "text/html": [
       "<div>\n",
       "<style scoped>\n",
       "    .dataframe tbody tr th:only-of-type {\n",
       "        vertical-align: middle;\n",
       "    }\n",
       "\n",
       "    .dataframe tbody tr th {\n",
       "        vertical-align: top;\n",
       "    }\n",
       "\n",
       "    .dataframe thead th {\n",
       "        text-align: right;\n",
       "    }\n",
       "</style>\n",
       "<table border=\"1\" class=\"dataframe\">\n",
       "  <thead>\n",
       "    <tr style=\"text-align: right;\">\n",
       "      <th></th>\n",
       "      <th>chlide_a[mg*m^3]</th>\n",
       "      <th>chla[mg*m^3]</th>\n",
       "      <th>chlb[mg*m^3]</th>\n",
       "      <th>chlc1+c2[mg*m^3]</th>\n",
       "      <th>fucox[mg*m^3]</th>\n",
       "      <th>19'hxfcx[mg*m^3]</th>\n",
       "      <th>19'btfcx[mg*m^3]</th>\n",
       "      <th>diadino[mg*m^3]</th>\n",
       "      <th>allox[mg*m^3]</th>\n",
       "      <th>diatox[mg*m^3]</th>\n",
       "      <th>zeaxan[mg*m^3]</th>\n",
       "      <th>beta_car[mg*m^3]</th>\n",
       "      <th>peridinin[mg*m^3]</th>\n",
       "    </tr>\n",
       "  </thead>\n",
       "  <tbody>\n",
       "    <tr>\n",
       "      <th>DNN</th>\n",
       "      <td>0.734430</td>\n",
       "      <td>0.875034</td>\n",
       "      <td>0.760904</td>\n",
       "      <td>0.892554</td>\n",
       "      <td>0.886139</td>\n",
       "      <td>0.741763</td>\n",
       "      <td>0.459652</td>\n",
       "      <td>0.859996</td>\n",
       "      <td>0.676695</td>\n",
       "      <td>0.717622</td>\n",
       "      <td>0.399745</td>\n",
       "      <td>0.841517</td>\n",
       "      <td>0.858079</td>\n",
       "    </tr>\n",
       "    <tr>\n",
       "      <th>DNN th</th>\n",
       "      <td>0.765414</td>\n",
       "      <td>0.897032</td>\n",
       "      <td>0.767680</td>\n",
       "      <td>0.918961</td>\n",
       "      <td>0.889400</td>\n",
       "      <td>0.750678</td>\n",
       "      <td>0.440322</td>\n",
       "      <td>0.881059</td>\n",
       "      <td>0.720951</td>\n",
       "      <td>0.731495</td>\n",
       "      <td>0.296729</td>\n",
       "      <td>0.874202</td>\n",
       "      <td>0.791427</td>\n",
       "    </tr>\n",
       "  </tbody>\n",
       "</table>\n",
       "</div>"
      ],
      "text/plain": [
       "        chlide_a[mg*m^3]  chla[mg*m^3]  chlb[mg*m^3]  chlc1+c2[mg*m^3]  \\\n",
       "DNN             0.734430      0.875034      0.760904          0.892554   \n",
       "DNN th          0.765414      0.897032      0.767680          0.918961   \n",
       "\n",
       "        fucox[mg*m^3]  19'hxfcx[mg*m^3]  19'btfcx[mg*m^3]  diadino[mg*m^3]  \\\n",
       "DNN          0.886139          0.741763          0.459652         0.859996   \n",
       "DNN th       0.889400          0.750678          0.440322         0.881059   \n",
       "\n",
       "        allox[mg*m^3]  diatox[mg*m^3]  zeaxan[mg*m^3]  beta_car[mg*m^3]  \\\n",
       "DNN          0.676695        0.717622        0.399745          0.841517   \n",
       "DNN th       0.720951        0.731495        0.296729          0.874202   \n",
       "\n",
       "        peridinin[mg*m^3]  \n",
       "DNN              0.858079  \n",
       "DNN th           0.791427  "
      ]
     },
     "execution_count": 58,
     "metadata": {},
     "output_type": "execute_result"
    }
   ],
   "source": [
    "pd.DataFrame([mets_test['r2_log_per_class'], mets_test_th['r2_log_per_class']], columns=pigments,  index=['DNN', 'DNN th'])"
   ]
  },
  {
   "cell_type": "markdown",
   "id": "fce25819-869a-4ac7-acda-f228aa474efa",
   "metadata": {},
   "source": [
    "### Training Metrics"
   ]
  },
  {
   "cell_type": "code",
   "execution_count": 16,
   "id": "b871b6e0-7c5d-4520-ab15-ac59b5acb75d",
   "metadata": {},
   "outputs": [
    {
     "data": {
      "text/html": [
       "<div>\n",
       "<style scoped>\n",
       "    .dataframe tbody tr th:only-of-type {\n",
       "        vertical-align: middle;\n",
       "    }\n",
       "\n",
       "    .dataframe tbody tr th {\n",
       "        vertical-align: top;\n",
       "    }\n",
       "\n",
       "    .dataframe thead th {\n",
       "        text-align: right;\n",
       "    }\n",
       "</style>\n",
       "<table border=\"1\" class=\"dataframe\">\n",
       "  <thead>\n",
       "    <tr style=\"text-align: right;\">\n",
       "      <th></th>\n",
       "      <th>R2</th>\n",
       "      <th>MAPE</th>\n",
       "      <th>MAE</th>\n",
       "      <th>MSE</th>\n",
       "    </tr>\n",
       "  </thead>\n",
       "  <tbody>\n",
       "    <tr>\n",
       "      <th>DNN</th>\n",
       "      <td>0.899365</td>\n",
       "      <td>0.302443</td>\n",
       "      <td>0.036412</td>\n",
       "      <td>0.048137</td>\n",
       "    </tr>\n",
       "    <tr>\n",
       "      <th>DNN th</th>\n",
       "      <td>0.788092</td>\n",
       "      <td>0.388616</td>\n",
       "      <td>0.057615</td>\n",
       "      <td>0.116107</td>\n",
       "    </tr>\n",
       "  </tbody>\n",
       "</table>\n",
       "</div>"
      ],
      "text/plain": [
       "              R2      MAPE       MAE       MSE\n",
       "DNN     0.899365  0.302443  0.036412  0.048137\n",
       "DNN th  0.788092  0.388616  0.057615  0.116107"
      ]
     },
     "execution_count": 16,
     "metadata": {},
     "output_type": "execute_result"
    }
   ],
   "source": [
    "pd.DataFrame({'R2':[mets_train['r2_log'], mets_train_th['r2_log']], \n",
    "              'MAPE':[mets_train['mape'], mets_train_th['mape']],\n",
    "              'MAE':[mets_train['mae'], mets_train_th['mae']],\n",
    "              'MSE':[mets_train['mse'], mets_train_th['mse']]\n",
    "             },  index=['DNN', 'DNN th'])"
   ]
  },
  {
   "cell_type": "code",
   "execution_count": 17,
   "id": "15d42efe-6f0b-41f8-915f-dcf62904c479",
   "metadata": {},
   "outputs": [
    {
     "data": {
      "text/html": [
       "<div>\n",
       "<style scoped>\n",
       "    .dataframe tbody tr th:only-of-type {\n",
       "        vertical-align: middle;\n",
       "    }\n",
       "\n",
       "    .dataframe tbody tr th {\n",
       "        vertical-align: top;\n",
       "    }\n",
       "\n",
       "    .dataframe thead th {\n",
       "        text-align: right;\n",
       "    }\n",
       "</style>\n",
       "<table border=\"1\" class=\"dataframe\">\n",
       "  <thead>\n",
       "    <tr style=\"text-align: right;\">\n",
       "      <th></th>\n",
       "      <th>chlide_a[mg*m^3]</th>\n",
       "      <th>chla[mg*m^3]</th>\n",
       "      <th>chlb[mg*m^3]</th>\n",
       "      <th>chlc1+c2[mg*m^3]</th>\n",
       "      <th>fucox[mg*m^3]</th>\n",
       "      <th>19'hxfcx[mg*m^3]</th>\n",
       "      <th>19'btfcx[mg*m^3]</th>\n",
       "      <th>diadino[mg*m^3]</th>\n",
       "      <th>allox[mg*m^3]</th>\n",
       "      <th>diatox[mg*m^3]</th>\n",
       "      <th>zeaxan[mg*m^3]</th>\n",
       "      <th>beta_car[mg*m^3]</th>\n",
       "      <th>peridinin[mg*m^3]</th>\n",
       "    </tr>\n",
       "  </thead>\n",
       "  <tbody>\n",
       "    <tr>\n",
       "      <th>DNN</th>\n",
       "      <td>0.887038</td>\n",
       "      <td>0.957271</td>\n",
       "      <td>0.881837</td>\n",
       "      <td>0.961243</td>\n",
       "      <td>0.949470</td>\n",
       "      <td>0.902516</td>\n",
       "      <td>0.819896</td>\n",
       "      <td>0.952067</td>\n",
       "      <td>0.897150</td>\n",
       "      <td>0.897497</td>\n",
       "      <td>0.715788</td>\n",
       "      <td>0.943024</td>\n",
       "      <td>0.926943</td>\n",
       "    </tr>\n",
       "    <tr>\n",
       "      <th>DNN th</th>\n",
       "      <td>0.811305</td>\n",
       "      <td>0.902875</td>\n",
       "      <td>0.798533</td>\n",
       "      <td>0.908120</td>\n",
       "      <td>0.896615</td>\n",
       "      <td>0.787740</td>\n",
       "      <td>0.516106</td>\n",
       "      <td>0.895633</td>\n",
       "      <td>0.779827</td>\n",
       "      <td>0.794108</td>\n",
       "      <td>0.445697</td>\n",
       "      <td>0.898754</td>\n",
       "      <td>0.809888</td>\n",
       "    </tr>\n",
       "  </tbody>\n",
       "</table>\n",
       "</div>"
      ],
      "text/plain": [
       "        chlide_a[mg*m^3]  chla[mg*m^3]  chlb[mg*m^3]  chlc1+c2[mg*m^3]  \\\n",
       "DNN             0.887038      0.957271      0.881837          0.961243   \n",
       "DNN th          0.811305      0.902875      0.798533          0.908120   \n",
       "\n",
       "        fucox[mg*m^3]  19'hxfcx[mg*m^3]  19'btfcx[mg*m^3]  diadino[mg*m^3]  \\\n",
       "DNN          0.949470          0.902516          0.819896         0.952067   \n",
       "DNN th       0.896615          0.787740          0.516106         0.895633   \n",
       "\n",
       "        allox[mg*m^3]  diatox[mg*m^3]  zeaxan[mg*m^3]  beta_car[mg*m^3]  \\\n",
       "DNN          0.897150        0.897497        0.715788          0.943024   \n",
       "DNN th       0.779827        0.794108        0.445697          0.898754   \n",
       "\n",
       "        peridinin[mg*m^3]  \n",
       "DNN              0.926943  \n",
       "DNN th           0.809888  "
      ]
     },
     "execution_count": 17,
     "metadata": {},
     "output_type": "execute_result"
    }
   ],
   "source": [
    "pd.DataFrame([mets_train['r2_log_per_class'], mets_train_th['r2_log_per_class']], columns=pigments,  index=['DNN', 'DNN th'])"
   ]
  },
  {
   "cell_type": "code",
   "execution_count": null,
   "id": "0bdf646e-d0bd-4d87-a26d-7466e171691a",
   "metadata": {},
   "outputs": [],
   "source": []
  },
  {
   "cell_type": "markdown",
   "id": "356e41d2-5801-4785-965b-0b753a4fe361",
   "metadata": {},
   "source": [
    "### Save Nested CV results"
   ]
  },
  {
   "cell_type": "code",
   "execution_count": 18,
   "id": "50e9d72c-1020-4774-ba3a-cd9284033c44",
   "metadata": {},
   "outputs": [],
   "source": [
    "with open(reports_dir_train / 'dnn.pkl', 'wb') as f:\n",
    "    pickle.dump(mets_train, f)\n",
    "\n",
    "\n",
    "with open(reports_dir_test / 'dnn.pkl', 'wb') as f:\n",
    "    pickle.dump(mets_test, f)\n",
    "\n",
    "with open(reports_dir_train / 'dnn_th.pkl', 'wb') as f:\n",
    "    pickle.dump(mets_train_th, f)\n",
    "\n",
    "with open(reports_dir_test / 'dnn_th.pkl', 'wb') as f:\n",
    "    pickle.dump(mets_test_th, f)"
   ]
  },
  {
   "cell_type": "code",
   "execution_count": null,
   "id": "ce2b4dbb-5ec8-425d-9011-c430815384ac",
   "metadata": {},
   "outputs": [],
   "source": [
    "with open(reports_dir_train / 'dnn_legacy.pkl', 'wb') as f:\n",
    "    pickle.dump(mets_train_mini, f)\n",
    "\n",
    "\n",
    "with open(reports_dir_test / 'dnn_legacy.pkl', 'wb') as f:\n",
    "    pickle.dump(mets_test_mini, f)\n",
    "\n",
    "with open(reports_dir_train / 'dnn_th_legacy.pkl', 'wb') as f:\n",
    "    pickle.dump(mets_train_th_mini, f)\n",
    "\n",
    "with open(reports_dir_test / 'dnn_th_legacy.pkl', 'wb') as f:\n",
    "    pickle.dump(mets_test_th_mini, f)"
   ]
  },
  {
   "cell_type": "markdown",
   "id": "27be774d-59aa-4957-9865-a823ab0c186a",
   "metadata": {},
   "source": [
    "### Load Nested CV results"
   ]
  },
  {
   "cell_type": "code",
   "execution_count": 19,
   "id": "14adfd05-d5bc-4378-b9b1-157385c517f9",
   "metadata": {},
   "outputs": [],
   "source": [
    "with open(reports_dir_train / 'dnn.pkl', 'rb') as f:\n",
    "    mets_train = pickle.load(f)\n",
    "\n",
    "with open(reports_dir_test / 'dnn.pkl', 'rb') as f:\n",
    "    mets_test = pickle.load(f)\n",
    "\n",
    "with open(reports_dir_train / 'dnn_th.pkl', 'rb') as f:\n",
    "    mets_train_th = pickle.load(f)\n",
    "\n",
    "with open(reports_dir_test / 'dnn_th.pkl', 'rb') as f:\n",
    "    mets_test_th = pickle.load(f)"
   ]
  },
  {
   "cell_type": "code",
   "execution_count": null,
   "id": "31b7ba7d-8c87-477b-9c61-e7099f7d82bf",
   "metadata": {},
   "outputs": [],
   "source": [
    "with open(reports_dir_train / 'dnn_legacy.pkl', 'rb') as f:\n",
    "    mets_train_mini = pickle.load(f)\n",
    "\n",
    "with open(reports_dir_test / 'dnn_legacy.pkl', 'rb') as f:\n",
    "    mets_test_mini = pickle.load(f)\n",
    "\n",
    "with open(reports_dir_train / 'dnn_th_legacy.pkl', 'rb') as f:\n",
    "    mets_train_th_mini = pickle.load(f)\n",
    "\n",
    "with open(reports_dir_test / 'dnn_th_legacy.pkl', 'rb') as f:\n",
    "    mets_test_th_mini = pickle.load(f)"
   ]
  },
  {
   "cell_type": "markdown",
   "id": "62570483-7301-4499-821a-edaf3625e34b",
   "metadata": {},
   "source": [
    "### Train final model"
   ]
  },
  {
   "cell_type": "code",
   "execution_count": 20,
   "id": "e2f57519-6fe4-4734-8180-e8233327a15e",
   "metadata": {},
   "outputs": [],
   "source": [
    "with open(reports_dir_test / 'dnn.pkl', 'rb') as f:\n",
    "    mets_test = pickle.load(f)\n",
    "\n",
    "with open(reports_dir_test / 'dnn_th.pkl', 'rb') as f:\n",
    "    mets_test_th = pickle.load(f)"
   ]
  },
  {
   "cell_type": "code",
   "execution_count": null,
   "id": "4128765f-45c7-4cb5-8be9-a720296002e1",
   "metadata": {},
   "outputs": [],
   "source": [
    "with open(reports_dir_test / 'dnn_legacy.pkl', 'rb') as f:\n",
    "    mets_test_mini = pickle.load(f)\n",
    "\n",
    "with open(reports_dir_test / 'dnn_th_legacy.pkl', 'rb') as f:\n",
    "    mets_test_th_mini = pickle.load(f)"
   ]
  },
  {
   "cell_type": "code",
   "execution_count": 21,
   "id": "17f0c47a-e9e1-49ce-a783-fd0d95ff1404",
   "metadata": {},
   "outputs": [],
   "source": [
    "hp = ['layers_num', 'hl_dim', 'lr', 'patience', 'loss', 'epochs', 'batch'] "
   ]
  },
  {
   "cell_type": "code",
   "execution_count": 22,
   "id": "05a08ca5-0012-4322-a57e-2d867d282cb5",
   "metadata": {},
   "outputs": [
    {
     "name": "stdout",
     "output_type": "stream",
     "text": [
      "Best Hyperparameters per Fold in outer loop\n"
     ]
    },
    {
     "data": {
      "text/html": [
       "<div>\n",
       "<style scoped>\n",
       "    .dataframe tbody tr th:only-of-type {\n",
       "        vertical-align: middle;\n",
       "    }\n",
       "\n",
       "    .dataframe tbody tr th {\n",
       "        vertical-align: top;\n",
       "    }\n",
       "\n",
       "    .dataframe thead th {\n",
       "        text-align: right;\n",
       "    }\n",
       "</style>\n",
       "<table border=\"1\" class=\"dataframe\">\n",
       "  <thead>\n",
       "    <tr style=\"text-align: right;\">\n",
       "      <th></th>\n",
       "      <th>Fold 1</th>\n",
       "      <th>Fold 2</th>\n",
       "      <th>Fold 3</th>\n",
       "      <th>Fold 4</th>\n",
       "      <th>Fold 5</th>\n",
       "    </tr>\n",
       "  </thead>\n",
       "  <tbody>\n",
       "    <tr>\n",
       "      <th>layers_num</th>\n",
       "      <td>3</td>\n",
       "      <td>3</td>\n",
       "      <td>3</td>\n",
       "      <td>3</td>\n",
       "      <td>3</td>\n",
       "    </tr>\n",
       "    <tr>\n",
       "      <th>hl_dim</th>\n",
       "      <td>[16, 64, 13]</td>\n",
       "      <td>[16, 64, 13]</td>\n",
       "      <td>[16, 64, 13]</td>\n",
       "      <td>[16, 64, 13]</td>\n",
       "      <td>[16, 64, 13]</td>\n",
       "    </tr>\n",
       "    <tr>\n",
       "      <th>lr</th>\n",
       "      <td>0.01</td>\n",
       "      <td>0.01</td>\n",
       "      <td>0.01</td>\n",
       "      <td>0.01</td>\n",
       "      <td>0.01</td>\n",
       "    </tr>\n",
       "    <tr>\n",
       "      <th>patience</th>\n",
       "      <td>100</td>\n",
       "      <td>100</td>\n",
       "      <td>100</td>\n",
       "      <td>100</td>\n",
       "      <td>100</td>\n",
       "    </tr>\n",
       "    <tr>\n",
       "      <th>loss</th>\n",
       "      <td>mse</td>\n",
       "      <td>mse</td>\n",
       "      <td>mse</td>\n",
       "      <td>mse</td>\n",
       "      <td>mse</td>\n",
       "    </tr>\n",
       "    <tr>\n",
       "      <th>epochs</th>\n",
       "      <td>1500</td>\n",
       "      <td>1500</td>\n",
       "      <td>1500</td>\n",
       "      <td>1500</td>\n",
       "      <td>1500</td>\n",
       "    </tr>\n",
       "    <tr>\n",
       "      <th>batch</th>\n",
       "      <td>32</td>\n",
       "      <td>32</td>\n",
       "      <td>32</td>\n",
       "      <td>32</td>\n",
       "      <td>32</td>\n",
       "    </tr>\n",
       "  </tbody>\n",
       "</table>\n",
       "</div>"
      ],
      "text/plain": [
       "                  Fold 1        Fold 2        Fold 3        Fold 4  \\\n",
       "layers_num             3             3             3             3   \n",
       "hl_dim      [16, 64, 13]  [16, 64, 13]  [16, 64, 13]  [16, 64, 13]   \n",
       "lr                  0.01          0.01          0.01          0.01   \n",
       "patience             100           100           100           100   \n",
       "loss                 mse           mse           mse           mse   \n",
       "epochs              1500          1500          1500          1500   \n",
       "batch                 32            32            32            32   \n",
       "\n",
       "                  Fold 5  \n",
       "layers_num             3  \n",
       "hl_dim      [16, 64, 13]  \n",
       "lr                  0.01  \n",
       "patience             100  \n",
       "loss                 mse  \n",
       "epochs              1500  \n",
       "batch                 32  "
      ]
     },
     "execution_count": 22,
     "metadata": {},
     "output_type": "execute_result"
    }
   ],
   "source": [
    "print(\"Best Hyperparameters per Fold in outer loop\")\n",
    "pd.DataFrame([mets_test[hp_name] for hp_name in hp], \n",
    "             columns=[\"Fold 1\", \"Fold 2\", \"Fold 3\", \"Fold 4\", \"Fold 5\"], \n",
    "             index=hp)"
   ]
  },
  {
   "cell_type": "code",
   "execution_count": 23,
   "id": "a61dcb9e-7ba3-4add-a45e-2824b83666dd",
   "metadata": {},
   "outputs": [
    {
     "name": "stdout",
     "output_type": "stream",
     "text": [
      "Best Hyperparameters per Fold in outer loop\n"
     ]
    },
    {
     "data": {
      "text/html": [
       "<div>\n",
       "<style scoped>\n",
       "    .dataframe tbody tr th:only-of-type {\n",
       "        vertical-align: middle;\n",
       "    }\n",
       "\n",
       "    .dataframe tbody tr th {\n",
       "        vertical-align: top;\n",
       "    }\n",
       "\n",
       "    .dataframe thead th {\n",
       "        text-align: right;\n",
       "    }\n",
       "</style>\n",
       "<table border=\"1\" class=\"dataframe\">\n",
       "  <thead>\n",
       "    <tr style=\"text-align: right;\">\n",
       "      <th></th>\n",
       "      <th>Fold 1</th>\n",
       "      <th>Fold 2</th>\n",
       "      <th>Fold 3</th>\n",
       "      <th>Fold 4</th>\n",
       "      <th>Fold 5</th>\n",
       "    </tr>\n",
       "  </thead>\n",
       "  <tbody>\n",
       "    <tr>\n",
       "      <th>layers_num</th>\n",
       "      <td>2</td>\n",
       "      <td>2</td>\n",
       "      <td>2</td>\n",
       "      <td>2</td>\n",
       "      <td>2</td>\n",
       "    </tr>\n",
       "    <tr>\n",
       "      <th>hl_dim</th>\n",
       "      <td>[64, 13]</td>\n",
       "      <td>[64, 13]</td>\n",
       "      <td>[64, 13]</td>\n",
       "      <td>[64, 13]</td>\n",
       "      <td>[64, 13]</td>\n",
       "    </tr>\n",
       "    <tr>\n",
       "      <th>lr</th>\n",
       "      <td>0.01</td>\n",
       "      <td>0.01</td>\n",
       "      <td>0.01</td>\n",
       "      <td>0.01</td>\n",
       "      <td>0.01</td>\n",
       "    </tr>\n",
       "    <tr>\n",
       "      <th>patience</th>\n",
       "      <td>100</td>\n",
       "      <td>100</td>\n",
       "      <td>100</td>\n",
       "      <td>100</td>\n",
       "      <td>100</td>\n",
       "    </tr>\n",
       "    <tr>\n",
       "      <th>loss</th>\n",
       "      <td>mse</td>\n",
       "      <td>mse</td>\n",
       "      <td>mse</td>\n",
       "      <td>mse</td>\n",
       "      <td>mse</td>\n",
       "    </tr>\n",
       "    <tr>\n",
       "      <th>epochs</th>\n",
       "      <td>300</td>\n",
       "      <td>300</td>\n",
       "      <td>300</td>\n",
       "      <td>300</td>\n",
       "      <td>300</td>\n",
       "    </tr>\n",
       "    <tr>\n",
       "      <th>batch</th>\n",
       "      <td>32</td>\n",
       "      <td>32</td>\n",
       "      <td>32</td>\n",
       "      <td>32</td>\n",
       "      <td>32</td>\n",
       "    </tr>\n",
       "  </tbody>\n",
       "</table>\n",
       "</div>"
      ],
      "text/plain": [
       "              Fold 1    Fold 2    Fold 3    Fold 4    Fold 5\n",
       "layers_num         2         2         2         2         2\n",
       "hl_dim      [64, 13]  [64, 13]  [64, 13]  [64, 13]  [64, 13]\n",
       "lr              0.01      0.01      0.01      0.01      0.01\n",
       "patience         100       100       100       100       100\n",
       "loss             mse       mse       mse       mse       mse\n",
       "epochs           300       300       300       300       300\n",
       "batch             32        32        32        32        32"
      ]
     },
     "execution_count": 23,
     "metadata": {},
     "output_type": "execute_result"
    }
   ],
   "source": [
    "print(\"Best Hyperparameters per Fold in outer loop\")\n",
    "pd.DataFrame([mets_test_th[hp_name] for hp_name in hp], \n",
    "             columns=[\"Fold 1\", \"Fold 2\", \"Fold 3\", \"Fold 4\", \"Fold 5\"], \n",
    "             index=hp)"
   ]
  },
  {
   "cell_type": "code",
   "execution_count": null,
   "id": "59ea7ae7-2089-49e8-a5ef-7c0e2cbfe64e",
   "metadata": {},
   "outputs": [],
   "source": [
    "print(\"Best Hyperparameters per Fold in outer loop (legacy model)\")\n",
    "pd.DataFrame([mets_test_mini[hp_name] for hp_name in hp], \n",
    "             columns=[\"Fold 1\", \"Fold 2\", \"Fold 3\", \"Fold 4\", \"Fold 5\"], \n",
    "             index=hp)"
   ]
  },
  {
   "cell_type": "code",
   "execution_count": null,
   "id": "8916d604-bcdc-4482-ba50-b3df5dbee4e2",
   "metadata": {},
   "outputs": [],
   "source": [
    "print(\"Best Hyperparameters per Fold in outer loop (legacy model)\")\n",
    "pd.DataFrame([mets_test_th_mini[hp_name] for hp_name in hp], \n",
    "             columns=[\"Fold 1\", \"Fold 2\", \"Fold 3\", \"Fold 4\", \"Fold 5\"], \n",
    "             index=hp)"
   ]
  },
  {
   "cell_type": "code",
   "execution_count": null,
   "id": "d57e807f-2d06-4d1a-9cac-294fa6800cb8",
   "metadata": {},
   "outputs": [],
   "source": []
  }
 ],
 "metadata": {
  "kernelspec": {
   "display_name": "Python 3 (ipykernel)",
   "language": "python",
   "name": "python3"
  },
  "language_info": {
   "codemirror_mode": {
    "name": "ipython",
    "version": 3
   },
   "file_extension": ".py",
   "mimetype": "text/x-python",
   "name": "python",
   "nbconvert_exporter": "python",
   "pygments_lexer": "ipython3",
   "version": "3.9.13"
  }
 },
 "nbformat": 4,
 "nbformat_minor": 5
}
