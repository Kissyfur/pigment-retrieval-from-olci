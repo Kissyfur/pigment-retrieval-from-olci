{
 "cells": [
  {
   "cell_type": "code",
   "execution_count": 1,
   "id": "77fbabe6-ce82-44c2-96e0-9cdc1b2e5c60",
   "metadata": {},
   "outputs": [],
   "source": [
    "import matplotlib.pyplot as plt\n",
    "%matplotlib qt\n",
    "import numpy as np\n",
    "import pickle\n",
    "\n",
    "from pathlib import Path\n",
    "\n",
    "from src.visualization.radar_chart import radial_chart\n"
   ]
  },
  {
   "cell_type": "code",
   "execution_count": 2,
   "id": "7c511c6f-9c7d-4374-a594-ed13881a9350",
   "metadata": {},
   "outputs": [],
   "source": [
    "# indices_good = np.array([False, True, False, True, True, True, False, True, False, True, False, True, True])\n",
    "\n",
    "# pigments_good = pigments[indices_good]\n",
    "# pigments_bad = pigments[~indices_good]\n",
    "\n",
    "reports_dir_test = Path('../../reports/cross_val')\n",
    "reports_dir_train = Path('../../reports/cross_val_train')"
   ]
  },
  {
   "cell_type": "code",
   "execution_count": 3,
   "id": "f6837ab9-78df-424f-b6a3-33269454f4c5",
   "metadata": {},
   "outputs": [],
   "source": [
    "with open(reports_dir_train / 'ranfom_forest.pkl', 'rb') as f:\n",
    "    RF_metrics_train = pickle.load(f)\n",
    "\n",
    "with open(reports_dir_test / 'ranfom_forest.pkl', 'rb') as f:\n",
    "    RF_metrics_test = pickle.load(f)\n",
    "\n",
    "\n"
   ]
  },
  {
   "cell_type": "code",
   "execution_count": 4,
   "id": "2a87899a-15a0-4ca0-a600-629c9cb936fa",
   "metadata": {},
   "outputs": [],
   "source": [
    "with open(reports_dir_train / 'ranfom_forest_legacy.pkl', 'rb') as f:\n",
    "    RF_metrics_train_mini = pickle.load(f)\n",
    "\n",
    "with open(reports_dir_test / 'ranfom_forest_legacy.pkl', 'rb') as f:\n",
    "    RF_metrics_test_mini = pickle.load(f)"
   ]
  },
  {
   "cell_type": "code",
   "execution_count": 5,
   "id": "219f4092-ad02-4a7d-af4c-4f5f4970d906",
   "metadata": {},
   "outputs": [],
   "source": [
    "with open(reports_dir_train / 'xgboost.pkl', 'rb') as f:\n",
    "    XGB_metrics_train = pickle.load(f)\n",
    "\n",
    "with open(reports_dir_test / 'xgboost.pkl', 'rb') as f:\n",
    "    XGB_metrics_test = pickle.load(f)\n",
    "\n"
   ]
  },
  {
   "cell_type": "code",
   "execution_count": 6,
   "id": "085fb005-a416-49e4-aab9-65fbd71acf2f",
   "metadata": {},
   "outputs": [],
   "source": [
    "with open(reports_dir_train / 'xgboost_legacy.pkl', 'rb') as f:\n",
    "    XGB_metrics_train_mini = pickle.load(f)\n",
    "\n",
    "with open(reports_dir_test / 'xgboost_legacy.pkl', 'rb') as f:\n",
    "    XGB_metrics_test_mini = pickle.load(f)"
   ]
  },
  {
   "cell_type": "code",
   "execution_count": 7,
   "id": "12b7a7db-6f44-445e-9af8-d784df702630",
   "metadata": {},
   "outputs": [],
   "source": [
    "with open(reports_dir_train / 'dnn.pkl', 'rb') as f:\n",
    "    DNN_metrics_train = pickle.load(f)\n",
    "\n",
    "with open(reports_dir_test / 'dnn.pkl', 'rb') as f:\n",
    "    DNN_metrics_test = pickle.load(f)\n",
    "\n",
    "# with open(reports_dir_train / 'dnn_mini.pkl', 'rb') as f:\n",
    "#     DNN_metrics_train_mini = pickle.load(f)\n",
    "\n",
    "# with open(reports_dir_test / 'dnn_mini.pkl', 'rb') as f:\n",
    "#     DNN_metrics_test_mini = pickle.load(f)"
   ]
  },
  {
   "cell_type": "code",
   "execution_count": 8,
   "id": "749e347f-754d-44b9-a36e-cd1ec683ec9f",
   "metadata": {},
   "outputs": [],
   "source": [
    "with open(reports_dir_train / 'dnn_th.pkl', 'rb') as f:\n",
    "    DNN_th_metrics_train = pickle.load(f)\n",
    "\n",
    "with open(reports_dir_test / 'dnn_th.pkl', 'rb') as f:\n",
    "    DNN_th_metrics_test = pickle.load(f)\n",
    "\n",
    "# with open(reports_dir_train / 'dnn_th_mini.pkl', 'rb') as f:\n",
    "#     DNN_th_metrics_train_mini = pickle.load(f)\n",
    "\n",
    "# with open(reports_dir_test / 'dnn_th_mini.pkl', 'rb') as f:\n",
    "#     DNN_th_metrics_test_mini = pickle.load(f)"
   ]
  },
  {
   "cell_type": "code",
   "execution_count": 9,
   "id": "b9bf0ee2-ba41-4fcb-8a57-5ce2e773fbb3",
   "metadata": {},
   "outputs": [],
   "source": [
    "# def get_good_data_r2():\n",
    "#     return pigments_good, ('R2', [RF_metrics['R2 per class'][indices_good], \n",
    "#                                       XGBoost_metrics['R2 per class'][indices_good],\n",
    "#                                       DNN_metrics['R2 per class'][indices_good]])\n",
    "\n",
    "# def get_bad_data_r2():\n",
    "#     return pigments_bad, ('R2', [RF_metrics['R2 per class'][~indices_good], \n",
    "#                                       XGBoost_metrics['R2 per class'][~indices_good],\n",
    "#                                      DNN_metrics['R2 per class'][~indices_good]])\n"
   ]
  },
  {
   "cell_type": "code",
   "execution_count": 10,
   "id": "da0ad187-04c1-49c5-851c-8ec329a3bd00",
   "metadata": {},
   "outputs": [],
   "source": [
    "def swap_elem(arr, i, j):\n",
    "    arr[i], arr[j] = arr[j], arr[i]\n",
    "    return arr"
   ]
  },
  {
   "cell_type": "code",
   "execution_count": 11,
   "id": "3fdb0474-c019-4318-a8e6-ac865491e728",
   "metadata": {},
   "outputs": [],
   "source": [
    "pigments = np.array(['chlide_a', 'chla   ', 'chlb      ', 'chlc1+c2              ', 'fucox           ', \"19'hxfcx               \", \n",
    "                     \"19'btfcx         \", \"             diadino\", \"        allox\", \"           diatox\", \"            zeaxan\", \"              beta_car\",\n",
    "                     \"               peridinin\"])\n",
    "\n",
    "\n",
    "data = [ds['r2_log_per_class'].copy() for ds in [RF_metrics_test, XGB_metrics_test, DNN_th_metrics_test]]\n",
    "data_train = [ds['r2_log_per_class'].copy() for ds in [RF_metrics_train, XGB_metrics_train, DNN_th_metrics_train]]\n",
    "# data = [ds['r2_log_per_class'].copy() for ds in [RF_metrics_test, XGB_metrics_test]]\n",
    "[swap_elem(arr, -3, -6) for arr in data]\n",
    "# data = d\n",
    "\n",
    "pigments = swap_elem(pigments, -3, -6)\n",
    "colors = ['#007D8C', '#D26432', '#C89B37']\n",
    "colors = ['#1f77b4', '#ff7f0e', '#2ca02c']\n",
    "\n",
    "markers = ['^', 's', 'p']\n",
    "labels = ('Random Forest', 'XGBoost', 'Dense NN')\n",
    "\n"
   ]
  },
  {
   "cell_type": "code",
   "execution_count": 12,
   "id": "403a4d52-c948-4f5d-83a7-4d3c4cd50e1f",
   "metadata": {},
   "outputs": [],
   "source": [
    "radial_chart(data, pigments, labels, colors, markers, title='R2', save=reports_dir_test/'diamond.pdf')"
   ]
  },
  {
   "cell_type": "code",
   "execution_count": 22,
   "id": "3411a93b-33f0-4327-ad07-d311e4467ad0",
   "metadata": {},
   "outputs": [],
   "source": [
    "radial_chart(data_train, pigments, labels, colors, markers, title='R2', save=reports_dir_train/'diamond.pdf')"
   ]
  },
  {
   "cell_type": "code",
   "execution_count": 27,
   "id": "cadb3f90-333b-4c18-9b3b-3f6490d46173",
   "metadata": {},
   "outputs": [],
   "source": [
    "# For pierre:\n",
    "\n",
    "# For Pierre plots\n",
    "\n",
    "custom_data = {'r2_log_per_class': np.array([ 0.44995126,  0.3844377 ,  0.6488891 ,  0.30770358,  0.31537974,\n",
    "         0.31992492, -0.07235074, -0.02761164, -0.10542285,  0.44324845,\n",
    "         0.17361823, -0.06477964,  0.22635972,  0.56876266,  0.13052657,\n",
    "         0.35959035,  0.24061804,  0.2600343 , -0.20013392,  0.3317114 ])}\n",
    "\n",
    "custom_columns = ['Bacillariophyceae', 'Bolidophyceae', 'Chlorarachnida', 'Chrysophyceae',\n",
    "       'Coscinodiscophyceae', 'Cryptophyta', 'Dictyochophyceae',\n",
    "       'Dinoflagellata', 'Haptophyta', 'Mediophyceae', 'MOCH',\n",
    "       'Other.Photosynthetic.Eukaryotes', 'Pelagophyceae', 'Radiolaria',\n",
    "       'Non.Phototrophic.Eukaryotes', 'Synechococcus', 'Prochlorococcus',\n",
    "       'Non.Phototrophic.Prokaryotes', 'Other.Photosynthetic.Prokaryotes',\n",
    "       'Cyanobium']\n",
    "radial_chart([custom_data['r2_log_per_class']], custom_columns, ['XGBoost'], ['#1f77b4', '#ff7f0e', '#2ca02c'],  ['^', 's', 'p'], title='R2')"
   ]
  },
  {
   "cell_type": "markdown",
   "id": "0c8566cf-cb2b-492a-b7ad-0c645b6d5135",
   "metadata": {},
   "source": [
    "### Show some tables"
   ]
  },
  {
   "cell_type": "code",
   "execution_count": 9,
   "id": "ee2cfc06-fbd1-4f5f-9f03-bfe8294fe0fc",
   "metadata": {},
   "outputs": [],
   "source": [
    "import pandas as pd"
   ]
  },
  {
   "cell_type": "code",
   "execution_count": 166,
   "id": "fd4dbb90-e848-4605-b621-ec5baae23de2",
   "metadata": {},
   "outputs": [],
   "source": [
    "mets = pd.DataFrame([RF_metrics_test, XGB_metrics_test, DNN_metrics_test, RF_metrics_test_mini, XGB_metrics_test_mini], index=['Random Forest','XGBoost', 'Dense NN', 'Random Forest (legacy)','XGBoost (legacy)'])"
   ]
  },
  {
   "cell_type": "code",
   "execution_count": 167,
   "id": "2fbc1467-356d-4d5a-8492-803da4af571a",
   "metadata": {},
   "outputs": [
    {
     "data": {
      "text/html": [
       "<div>\n",
       "<style scoped>\n",
       "    .dataframe tbody tr th:only-of-type {\n",
       "        vertical-align: middle;\n",
       "    }\n",
       "\n",
       "    .dataframe tbody tr th {\n",
       "        vertical-align: top;\n",
       "    }\n",
       "\n",
       "    .dataframe thead th {\n",
       "        text-align: right;\n",
       "    }\n",
       "</style>\n",
       "<table border=\"1\" class=\"dataframe\">\n",
       "  <thead>\n",
       "    <tr style=\"text-align: right;\">\n",
       "      <th></th>\n",
       "      <th>r2_log</th>\n",
       "      <th>mape</th>\n",
       "      <th>mae</th>\n",
       "      <th>mse</th>\n",
       "      <th>r2</th>\n",
       "    </tr>\n",
       "  </thead>\n",
       "  <tbody>\n",
       "    <tr>\n",
       "      <th>Random Forest</th>\n",
       "      <td>0.696585</td>\n",
       "      <td>0.523964</td>\n",
       "      <td>0.071159</td>\n",
       "      <td>0.180946</td>\n",
       "      <td>0.477635</td>\n",
       "    </tr>\n",
       "    <tr>\n",
       "      <th>XGBoost</th>\n",
       "      <td>0.697850</td>\n",
       "      <td>0.532186</td>\n",
       "      <td>0.065623</td>\n",
       "      <td>0.159057</td>\n",
       "      <td>0.482205</td>\n",
       "    </tr>\n",
       "    <tr>\n",
       "      <th>Dense NN</th>\n",
       "      <td>0.668876</td>\n",
       "      <td>0.534350</td>\n",
       "      <td>0.080107</td>\n",
       "      <td>0.226739</td>\n",
       "      <td>0.380723</td>\n",
       "    </tr>\n",
       "    <tr>\n",
       "      <th>Random Forest (legacy)</th>\n",
       "      <td>0.693562</td>\n",
       "      <td>0.525180</td>\n",
       "      <td>0.070865</td>\n",
       "      <td>0.185106</td>\n",
       "      <td>0.484875</td>\n",
       "    </tr>\n",
       "    <tr>\n",
       "      <th>XGBoost (legacy)</th>\n",
       "      <td>0.686371</td>\n",
       "      <td>0.539378</td>\n",
       "      <td>0.068480</td>\n",
       "      <td>0.172573</td>\n",
       "      <td>0.451397</td>\n",
       "    </tr>\n",
       "  </tbody>\n",
       "</table>\n",
       "</div>"
      ],
      "text/plain": [
       "                          r2_log      mape       mae       mse        r2\n",
       "Random Forest           0.696585  0.523964  0.071159  0.180946  0.477635\n",
       "XGBoost                 0.697850  0.532186  0.065623  0.159057  0.482205\n",
       "Dense NN                0.668876  0.534350  0.080107  0.226739  0.380723\n",
       "Random Forest (legacy)  0.693562  0.525180  0.070865  0.185106  0.484875\n",
       "XGBoost (legacy)        0.686371  0.539378  0.068480  0.172573  0.451397"
      ]
     },
     "execution_count": 167,
     "metadata": {},
     "output_type": "execute_result"
    }
   ],
   "source": [
    "mets.loc[:,['r2_log', 'mape', 'mae', 'mse', 'r2']]"
   ]
  },
  {
   "cell_type": "code",
   "execution_count": 163,
   "id": "f0abad9b-d6ff-484a-af59-be52e9fad1b0",
   "metadata": {},
   "outputs": [],
   "source": [
    "mets = pd.DataFrame([RF_metrics_train, XGB_metrics_train, DNN_metrics_train, RF_metrics_train_mini, XGB_metrics_train_mini], index=['Random Forest','XGBoost', 'Dense NN', 'Random Forest (legacy)','XGBoost (legacy)'])"
   ]
  },
  {
   "cell_type": "code",
   "execution_count": 164,
   "id": "cfd91877-eafc-4445-af6b-99630506f035",
   "metadata": {},
   "outputs": [
    {
     "data": {
      "text/html": [
       "<div>\n",
       "<style scoped>\n",
       "    .dataframe tbody tr th:only-of-type {\n",
       "        vertical-align: middle;\n",
       "    }\n",
       "\n",
       "    .dataframe tbody tr th {\n",
       "        vertical-align: top;\n",
       "    }\n",
       "\n",
       "    .dataframe thead th {\n",
       "        text-align: right;\n",
       "    }\n",
       "</style>\n",
       "<table border=\"1\" class=\"dataframe\">\n",
       "  <thead>\n",
       "    <tr style=\"text-align: right;\">\n",
       "      <th></th>\n",
       "      <th>r2_log</th>\n",
       "      <th>mape</th>\n",
       "      <th>mae</th>\n",
       "      <th>mse</th>\n",
       "      <th>r2</th>\n",
       "    </tr>\n",
       "  </thead>\n",
       "  <tbody>\n",
       "    <tr>\n",
       "      <th>Random Forest</th>\n",
       "      <td>0.887018</td>\n",
       "      <td>0.293210</td>\n",
       "      <td>0.046196</td>\n",
       "      <td>0.104438</td>\n",
       "      <td>0.666336</td>\n",
       "    </tr>\n",
       "    <tr>\n",
       "      <th>XGBoost</th>\n",
       "      <td>0.926125</td>\n",
       "      <td>0.253233</td>\n",
       "      <td>0.035218</td>\n",
       "      <td>0.064365</td>\n",
       "      <td>0.793149</td>\n",
       "    </tr>\n",
       "    <tr>\n",
       "      <th>Dense NN</th>\n",
       "      <td>0.720244</td>\n",
       "      <td>0.500354</td>\n",
       "      <td>0.083023</td>\n",
       "      <td>0.264498</td>\n",
       "      <td>0.259687</td>\n",
       "    </tr>\n",
       "    <tr>\n",
       "      <th>Random Forest (legacy)</th>\n",
       "      <td>0.885851</td>\n",
       "      <td>0.308432</td>\n",
       "      <td>0.049972</td>\n",
       "      <td>0.118657</td>\n",
       "      <td>0.637700</td>\n",
       "    </tr>\n",
       "    <tr>\n",
       "      <th>XGBoost (legacy)</th>\n",
       "      <td>0.902703</td>\n",
       "      <td>0.292742</td>\n",
       "      <td>0.039178</td>\n",
       "      <td>0.070554</td>\n",
       "      <td>0.745692</td>\n",
       "    </tr>\n",
       "  </tbody>\n",
       "</table>\n",
       "</div>"
      ],
      "text/plain": [
       "                          r2_log      mape       mae       mse        r2\n",
       "Random Forest           0.887018  0.293210  0.046196  0.104438  0.666336\n",
       "XGBoost                 0.926125  0.253233  0.035218  0.064365  0.793149\n",
       "Dense NN                0.720244  0.500354  0.083023  0.264498  0.259687\n",
       "Random Forest (legacy)  0.885851  0.308432  0.049972  0.118657  0.637700\n",
       "XGBoost (legacy)        0.902703  0.292742  0.039178  0.070554  0.745692"
      ]
     },
     "execution_count": 164,
     "metadata": {},
     "output_type": "execute_result"
    }
   ],
   "source": [
    "mets.loc[:,['r2_log', 'mape', 'mae', 'mse', 'r2']]"
   ]
  },
  {
   "cell_type": "markdown",
   "id": "59b061ab-9bb4-49b7-98d3-1ea0ce40da09",
   "metadata": {},
   "source": [
    "| Channels       | RFT|     |    |       | XGB |    |    |    | DNN|     |     |     |\n",
    "|-----------|--------------|-----|----|-------|---------|----|----|----|---------|-----|-----|-----|\n",
    "|           | R2 |           MAPE| MAE| MSE   | R2      |MAPE| MAE| MSE| R2      | MAPE| MAE | MSE |\n",
    "| 13        | 10 | 20            | 30       |\n",
    "| 5 (legacy)| 15 | 25            | 35       |"
   ]
  },
  {
   "cell_type": "code",
   "execution_count": null,
   "id": "16c6a8e5-d829-4e37-973b-b785c8d078a9",
   "metadata": {},
   "outputs": [],
   "source": []
  }
 ],
 "metadata": {
  "kernelspec": {
   "display_name": "Python 3 (ipykernel)",
   "language": "python",
   "name": "python3"
  },
  "language_info": {
   "codemirror_mode": {
    "name": "ipython",
    "version": 3
   },
   "file_extension": ".py",
   "mimetype": "text/x-python",
   "name": "python",
   "nbconvert_exporter": "python",
   "pygments_lexer": "ipython3",
   "version": "3.9.13"
  }
 },
 "nbformat": 4,
 "nbformat_minor": 5
}
